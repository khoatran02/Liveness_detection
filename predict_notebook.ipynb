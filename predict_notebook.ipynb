{
 "cells": [
  {
   "cell_type": "code",
   "execution_count": 1,
   "metadata": {},
   "outputs": [],
   "source": [
    "from tensorflow.keras.models import model_from_json"
   ]
  },
  {
   "cell_type": "code",
   "execution_count": 2,
   "metadata": {},
   "outputs": [
    {
     "name": "stdout",
     "output_type": "stream",
     "text": [
      "Model loaded from disk\n"
     ]
    }
   ],
   "source": [
    "json_file = open('save_models\\Model_with_mask_01.json','r')\n",
    "loaded_model_json = json_file.read()\n",
    "json_file.close()\n",
    "model = model_from_json(loaded_model_json)\n",
    "# load antispoofing model weights \n",
    "model.load_weights('save_models\\Model_weights_with_mask_01.h5')\n",
    "print(\"Model loaded from disk\")\n"
   ]
  },
  {
   "cell_type": "code",
   "execution_count": 3,
   "metadata": {},
   "outputs": [],
   "source": [
    "import seaborn as sns\n",
    "import os\n",
    "import pandas as pd\n",
    "from IPython.display import Image\n",
    "import json\n",
    "import numpy as np\n",
    "import natsort\n",
    "# from google.colab.patches import cv2_imshow\n",
    "import cv2\n",
    "import warnings\n",
    "warnings.filterwarnings(\"ignore\")\n",
    "import matplotlib.pyplot as plt\n",
    "from mtcnn import MTCNN\n"
   ]
  },
  {
   "cell_type": "code",
   "execution_count": 4,
   "metadata": {},
   "outputs": [],
   "source": [
    "def create_df_video_Path(video_path):\n",
    "  paths = []\n",
    "  Videos_name = []\n",
    "  for dirname, _, filenames in os.walk(video_path):\n",
    "      for filename in filenames:\n",
    "          paths.append(os.path.join(dirname, filename))\n",
    "          Videos_name.append(filename)\n",
    "          \n",
    "  paths = natsort.natsorted(paths,reverse=False)\n",
    "  Videos_name = natsort.natsorted(Videos_name,reverse=False)\n",
    "  \n",
    "  df = pd.DataFrame(\n",
    "      {'paths' : paths,\n",
    "       'fname' : Videos_name\n",
    "      })\n",
    "  \n",
    "  return df"
   ]
  },
  {
   "cell_type": "code",
   "execution_count": 5,
   "metadata": {},
   "outputs": [
    {
     "data": {
      "text/html": [
       "<div>\n",
       "<style scoped>\n",
       "    .dataframe tbody tr th:only-of-type {\n",
       "        vertical-align: middle;\n",
       "    }\n",
       "\n",
       "    .dataframe tbody tr th {\n",
       "        vertical-align: top;\n",
       "    }\n",
       "\n",
       "    .dataframe thead th {\n",
       "        text-align: right;\n",
       "    }\n",
       "</style>\n",
       "<table border=\"1\" class=\"dataframe\">\n",
       "  <thead>\n",
       "    <tr style=\"text-align: right;\">\n",
       "      <th></th>\n",
       "      <th>paths</th>\n",
       "      <th>fname</th>\n",
       "    </tr>\n",
       "  </thead>\n",
       "  <tbody>\n",
       "    <tr>\n",
       "      <th>0</th>\n",
       "      <td>data\\public_test_2\\videos\\0.mp4</td>\n",
       "      <td>0.mp4</td>\n",
       "    </tr>\n",
       "    <tr>\n",
       "      <th>1</th>\n",
       "      <td>data\\public_test_2\\videos\\1.mp4</td>\n",
       "      <td>1.mp4</td>\n",
       "    </tr>\n",
       "    <tr>\n",
       "      <th>2</th>\n",
       "      <td>data\\public_test_2\\videos\\2.mp4</td>\n",
       "      <td>2.mp4</td>\n",
       "    </tr>\n",
       "    <tr>\n",
       "      <th>3</th>\n",
       "      <td>data\\public_test_2\\videos\\3.mp4</td>\n",
       "      <td>3.mp4</td>\n",
       "    </tr>\n",
       "    <tr>\n",
       "      <th>4</th>\n",
       "      <td>data\\public_test_2\\videos\\4.mp4</td>\n",
       "      <td>4.mp4</td>\n",
       "    </tr>\n",
       "    <tr>\n",
       "      <th>...</th>\n",
       "      <td>...</td>\n",
       "      <td>...</td>\n",
       "    </tr>\n",
       "    <tr>\n",
       "      <th>481</th>\n",
       "      <td>data\\public_test_2\\videos\\481.mp4</td>\n",
       "      <td>481.mp4</td>\n",
       "    </tr>\n",
       "    <tr>\n",
       "      <th>482</th>\n",
       "      <td>data\\public_test_2\\videos\\482.mp4</td>\n",
       "      <td>482.mp4</td>\n",
       "    </tr>\n",
       "    <tr>\n",
       "      <th>483</th>\n",
       "      <td>data\\public_test_2\\videos\\483.mp4</td>\n",
       "      <td>483.mp4</td>\n",
       "    </tr>\n",
       "    <tr>\n",
       "      <th>484</th>\n",
       "      <td>data\\public_test_2\\videos\\484.mp4</td>\n",
       "      <td>484.mp4</td>\n",
       "    </tr>\n",
       "    <tr>\n",
       "      <th>485</th>\n",
       "      <td>data\\public_test_2\\videos\\485.mp4</td>\n",
       "      <td>485.mp4</td>\n",
       "    </tr>\n",
       "  </tbody>\n",
       "</table>\n",
       "<p>486 rows × 2 columns</p>\n",
       "</div>"
      ],
      "text/plain": [
       "                                 paths    fname\n",
       "0      data\\public_test_2\\videos\\0.mp4    0.mp4\n",
       "1      data\\public_test_2\\videos\\1.mp4    1.mp4\n",
       "2      data\\public_test_2\\videos\\2.mp4    2.mp4\n",
       "3      data\\public_test_2\\videos\\3.mp4    3.mp4\n",
       "4      data\\public_test_2\\videos\\4.mp4    4.mp4\n",
       "..                                 ...      ...\n",
       "481  data\\public_test_2\\videos\\481.mp4  481.mp4\n",
       "482  data\\public_test_2\\videos\\482.mp4  482.mp4\n",
       "483  data\\public_test_2\\videos\\483.mp4  483.mp4\n",
       "484  data\\public_test_2\\videos\\484.mp4  484.mp4\n",
       "485  data\\public_test_2\\videos\\485.mp4  485.mp4\n",
       "\n",
       "[486 rows x 2 columns]"
      ]
     },
     "execution_count": 5,
     "metadata": {},
     "output_type": "execute_result"
    }
   ],
   "source": [
    "df_paths = create_df_video_Path(\"data\")\n",
    "df_paths"
   ]
  },
  {
   "cell_type": "code",
   "execution_count": 6,
   "metadata": {},
   "outputs": [],
   "source": [
    "#Prediction Function\n",
    "def predict(file):\n",
    "  resized_face = cv2.resize(file,(224,224))\n",
    "  resized_face = resized_face.astype(\"float\") / 255.0\n",
    "  # resized_face = img_to_array(resized_face)\n",
    "  resized_face = np.expand_dims(resized_face, axis=0)\n",
    "  # pass the face ROI through the trained liveness detector\n",
    "  # model to determine if the face is \"real\" or \"fake\"\n",
    "  array = model.predict(resized_face)\n",
    "  result = array[0]\n",
    "  answer = np.argmax(result)\n",
    "  # if answer == 1:\n",
    "  #   print(\"Predicted: 1\")\n",
    "  # elif answer == 0:\n",
    "  #   print(\"Predicted: 0\")\n",
    "\n",
    "  return result[1]"
   ]
  },
  {
   "cell_type": "code",
   "execution_count": 7,
   "metadata": {},
   "outputs": [],
   "source": [
    "def crop_image(image,data):\n",
    "    print(data)\n",
    "    biggest=0\n",
    "    for faces in data:\n",
    "        box=faces['box']            \n",
    "        # calculate the area in the image\n",
    "        area = box[3]  * box[2]\n",
    "        if area>biggest:\n",
    "            biggest=area\n",
    "            bbox=box \n",
    "    bbox[0]= 0 if bbox[0]<0 else bbox[0]\n",
    "    bbox[1]= 0 if bbox[1]<0 else bbox[1]\n",
    "    image=image[bbox[1]: bbox[1]+bbox[3],bbox[0]: bbox[0]+ bbox[2]] \n",
    "    # img = cv2.cvtColor(img, cv2.COLOR_BGR2RGB) # convert from bgr to rgb\n",
    "    return image"
   ]
  },
  {
   "cell_type": "code",
   "execution_count": null,
   "metadata": {},
   "outputs": [],
   "source": [
    "import time"
   ]
  },
  {
   "cell_type": "code",
   "execution_count": 8,
   "metadata": {},
   "outputs": [],
   "source": [
    "def splitFrame(dataframes):\n",
    "\n",
    "  paths = []\n",
    "  fname = []\n",
    "  liveness_score = []\n",
    "  predicted_times = []\n",
    "\n",
    "  detector = MTCNN()\n",
    "\n",
    "  for i in range(len(dataframes)):\n",
    "\n",
    "    paths.append(dataframes.loc[i,\"paths\"])\n",
    "    fname.append(dataframes.loc[i,\"fname\"])\n",
    "\n",
    "    print(\"step: \",i)\n",
    "    listframe=[]\n",
    "    cam = cv2.VideoCapture(dataframes.loc[i,\"paths\"])\n",
    " \n",
    "    while(True):\n",
    "      # reading from frame\n",
    "      ret,frame = cam.read()\n",
    "      if ret:\n",
    "        listframe.append(frame)\n",
    "      else:\n",
    "        break\n",
    "\n",
    "    face_number = 0\n",
    "\n",
    "    for i in range(len(listframe)):\n",
    "      img = cv2.cvtColor(listframe[i], cv2.COLOR_BGR2RGB)\n",
    "      detections = detector.detect_faces(img)\n",
    "      t1 = time.time()\n",
    "      if detections !=[]:\n",
    "        t1 = time.time()\n",
    "        image = crop_image(listframe[i], detections)\n",
    "        liveness_score.append(predict(image))\n",
    "        print(predict(image))\n",
    "        face_number = face_number + 1\n",
    "        break\n",
    "    \n",
    "    if face_number == 0:\n",
    "      t1 = time.time()\n",
    "      liveness_score.append(0)\n",
    "    \n",
    "    t2 = time.time()\n",
    "    predicted_time = int(t2*1000 - t1*1000)\n",
    "    predicted_times.append(predicted_time)\n",
    "  \n",
    "  dict = {\"paths\" : paths, \"fname\" : fname, \"liveness_score\" : liveness_score, \"predicted_times\" : predicted_times}\n",
    "  df = pd.DataFrame(dict)\n",
    "  # df = df.sort_values(by=['paths'], ascending=True)\n",
    "  df = df.reset_index(drop=True) \n",
    "\n",
    "  return df"
   ]
  },
  {
   "cell_type": "code",
   "execution_count": null,
   "metadata": {},
   "outputs": [],
   "source": [
    "df_result = splitFrame(df_paths)"
   ]
  },
  {
   "cell_type": "code",
   "execution_count": null,
   "metadata": {},
   "outputs": [],
   "source": [
    "df_predict = df_result.drop(columns=[\"paths\", \"predicted_times\"])"
   ]
  },
  {
   "cell_type": "code",
   "execution_count": null,
   "metadata": {},
   "outputs": [],
   "source": [
    "df_predict"
   ]
  },
  {
   "cell_type": "code",
   "execution_count": null,
   "metadata": {},
   "outputs": [],
   "source": [
    "df_predicted_time = df_result.drop(columns=[\"paths\", \"liveness_score\"])"
   ]
  },
  {
   "cell_type": "code",
   "execution_count": null,
   "metadata": {},
   "outputs": [],
   "source": [
    "df_predicted_time"
   ]
  },
  {
   "cell_type": "code",
   "execution_count": 3,
   "metadata": {},
   "outputs": [],
   "source": [
    "import os\n",
    "directory = \"result\"\n",
    "if not os.path.exists(directory):\n",
    "    os.makedirs(directory)"
   ]
  },
  {
   "cell_type": "code",
   "execution_count": null,
   "metadata": {},
   "outputs": [],
   "source": [
    "df_predict.to_csv(\"./result/jupyter_submission.csv\",header=True, index=False)\n",
    "df_predicted_time.to_csv(\"./result/time_submission.csv\",header=True, index=False)\n"
   ]
  },
  {
   "cell_type": "code",
   "execution_count": null,
   "metadata": {},
   "outputs": [],
   "source": []
  },
  {
   "cell_type": "code",
   "execution_count": null,
   "metadata": {},
   "outputs": [],
   "source": []
  },
  {
   "cell_type": "code",
   "execution_count": null,
   "metadata": {},
   "outputs": [],
   "source": []
  },
  {
   "cell_type": "code",
   "execution_count": null,
   "metadata": {},
   "outputs": [],
   "source": []
  },
  {
   "cell_type": "code",
   "execution_count": null,
   "metadata": {},
   "outputs": [],
   "source": []
  },
  {
   "cell_type": "code",
   "execution_count": null,
   "metadata": {},
   "outputs": [],
   "source": []
  },
  {
   "cell_type": "code",
   "execution_count": null,
   "metadata": {},
   "outputs": [],
   "source": []
  },
  {
   "cell_type": "code",
   "execution_count": null,
   "metadata": {},
   "outputs": [],
   "source": []
  },
  {
   "cell_type": "code",
   "execution_count": null,
   "metadata": {},
   "outputs": [],
   "source": []
  },
  {
   "cell_type": "code",
   "execution_count": null,
   "metadata": {},
   "outputs": [],
   "source": []
  },
  {
   "cell_type": "code",
   "execution_count": null,
   "metadata": {},
   "outputs": [],
   "source": []
  },
  {
   "cell_type": "code",
   "execution_count": null,
   "metadata": {},
   "outputs": [],
   "source": []
  }
 ],
 "metadata": {
  "kernelspec": {
   "display_name": "Python 3.9.7 ('base')",
   "language": "python",
   "name": "python3"
  },
  "language_info": {
   "codemirror_mode": {
    "name": "ipython",
    "version": 3
   },
   "file_extension": ".py",
   "mimetype": "text/x-python",
   "name": "python",
   "nbconvert_exporter": "python",
   "pygments_lexer": "ipython3",
   "version": "3.9.7"
  },
  "orig_nbformat": 4,
  "vscode": {
   "interpreter": {
    "hash": "ad2bdc8ecc057115af97d19610ffacc2b4e99fae6737bb82f5d7fb13d2f2c186"
   }
  }
 },
 "nbformat": 4,
 "nbformat_minor": 2
}
